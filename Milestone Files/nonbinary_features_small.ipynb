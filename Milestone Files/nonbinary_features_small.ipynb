{
 "cells": [
  {
   "cell_type": "code",
   "execution_count": 1,
   "metadata": {},
   "outputs": [],
   "source": [
    "# import libraries\n",
    "import pandas as pd\n",
    "import numpy as np\n",
    "from sklearn.feature_extraction.text import CountVectorizer\n",
    "from sklearn.linear_model import LogisticRegression\n",
    "from sklearn.naive_bayes import MultinomialNB\n",
    "from sklearn.metrics import f1_score\n",
    "import matplotlib.pyplot as plt"
   ]
  },
  {
   "cell_type": "code",
   "execution_count": 2,
   "metadata": {},
   "outputs": [],
   "source": [
    "df_train = pd.read_csv('training_set_milestone.csv')\n",
    "df_test = pd.read_csv('test_set_milestone.csv')\n",
    "classes = df_train['subreddit'].unique()"
   ]
  },
  {
   "cell_type": "code",
   "execution_count": 3,
   "metadata": {},
   "outputs": [],
   "source": [
    "# Bag of words & Logistic Regression to determine word cutoff\n",
    "f1_trainlist = []\n",
    "f1_testlist = []\n",
    "\n",
    "# Iterate through different value of M to calculate M that provides highest F1 Score for development set \n",
    "for M in range(10, 25):\n",
    "\n",
    "    # Perform CountVectorizer on text\n",
    "    count_vect = CountVectorizer(binary=False, min_df=M)\n",
    "    X_train = count_vect.fit_transform(df_train['selftext'])\n",
    "    X_dev = count_vect.transform(df_test['selftext'])\n",
    "\n",
    "    # create logistic model with no regularization terms\n",
    "    logreg = LogisticRegression(multi_class='ovr', penalty='none')\n",
    "    logreg.fit(X_train, df_train['subreddit'].values)\n",
    "\n",
    "    # calculate F1 score\n",
    "    f1_train = f1_score(df_train['subreddit'].values, logreg.predict(X_train), average = 'micro')\n",
    "    f1_test = f1_score(df_test['subreddit'].values, logreg.predict(X_dev), average = 'micro')\n",
    "\n",
    "    # append F1 score to lists for plotting\n",
    "    f1_trainlist.append(f1_train)\n",
    "    f1_testlist.append(f1_test)"
   ]
  },
  {
   "cell_type": "code",
   "execution_count": 4,
   "metadata": {},
   "outputs": [
    {
     "data": {
      "image/png": "[encoded data removed]",
      "text/plain": [
       "<Figure size 640x480 with 1 Axes>"
      ]
     },
     "metadata": {},
     "output_type": "display_data"
    }
   ],
   "source": [
    "# plot F1-Score for Dev and Training sets to determine optimal M\n",
    "plt.plot(range(10, 25), f1_trainlist, label=\"Training Set\")\n",
    "plt.plot(range(10, 25), f1_testlist, label=\"Test Set\")\n",
    "plt.xlabel(\"M Threshold\")\n",
    "plt.ylabel(\"F1-Score\")\n",
    "leg = plt.legend(loc='upper right')\n",
    "plt.show()"
   ]
  },
  {
   "cell_type": "code",
   "execution_count": 5,
   "metadata": {},
   "outputs": [
    {
     "name": "stdout",
     "output_type": "stream",
     "text": [
      "4974\n"
     ]
    }
   ],
   "source": [
    "# Choose M = 20 for performance on hardware and little degradation in performance\n",
    "M = 20\n",
    "\n",
    "# Perform CountVectorizer on text with new M threshold\n",
    "count_vect = CountVectorizer(binary=False, min_df=M)\n",
    "X_train = count_vect.fit_transform(df_train['selftext'])\n",
    "X_test = count_vect.transform(df_test['selftext'])\n",
    "\n",
    "# print number of feature vectors\n",
    "print(len(count_vect.vocabulary_.keys()))"
   ]
  },
  {
   "cell_type": "code",
   "execution_count": 6,
   "metadata": {},
   "outputs": [
    {
     "name": "stdout",
     "output_type": "stream",
     "text": [
      "Training set with no regularization terms F1-Score is 1.0\n",
      "Test set with no regularization terms F1-Score is 0.908\n"
     ]
    }
   ],
   "source": [
    "# Logistic Regression with no Regularization Terms\n",
    "logreg = LogisticRegression(multi_class='ovr', penalty='none')\n",
    "logreg.fit(X_train, df_train['subreddit'].values)\n",
    "\n",
    "# calculate F1 score\n",
    "f1_train = f1_score(df_train['subreddit'].values, logreg.predict(X_train), average = 'micro')\n",
    "f1_test = f1_score(df_test['subreddit'].values, logreg.predict(X_test), average = 'micro')\n",
    "\n",
    "# print F1 values out\n",
    "print(f\"Training set with no regularization terms F1-Score is {f1_train}\")\n",
    "print(f\"Test set with no regularization terms F1-Score is {f1_test}\")"
   ]
  },
  {
   "cell_type": "code",
   "execution_count": 7,
   "metadata": {},
   "outputs": [
    {
     "name": "stdout",
     "output_type": "stream",
     "text": [
      "Training set with L1 regularization F1-Score is 0.99585\n",
      "Test set with L1 regularization F1-Score is 0.9166\n"
     ]
    }
   ],
   "source": [
    "# LogisticRegression with L1 regularization\n",
    "logregL1 = LogisticRegression(penalty='l1', solver='liblinear')\n",
    "logregL1.fit(X_train, df_train['subreddit'].values)\n",
    "\n",
    "# calculate F1 score\n",
    "f1_train_L1 = f1_score(df_train['subreddit'].values, logregL1.predict(X_train), average = 'micro')\n",
    "f1_test_L1 = f1_score(df_test['subreddit'].values, logregL1.predict(X_test), average = 'micro')\n",
    "\n",
    "#print F1 values out\n",
    "print(f\"Training set with L1 regularization F1-Score is {f1_train_L1}\")\n",
    "print(f\"Test set with L1 regularization F1-Score is {f1_test_L1}\")"
   ]
  },
  {
   "cell_type": "code",
   "execution_count": 8,
   "metadata": {},
   "outputs": [
    {
     "name": "stdout",
     "output_type": "stream",
     "text": [
      "Training set with L1 regularization F1-Score is 0.9998\n",
      "Test set with L1 regularization F1-Score is 0.9226\n"
     ]
    }
   ],
   "source": [
    "# LogisticRegression with L2 regularization\n",
    "logregL2 = LogisticRegression(penalty='l2', solver='liblinear')\n",
    "logregL2.fit(X_train, df_train['subreddit'].values)\n",
    "\n",
    "# calculate F1 score\n",
    "f1_train_L2 = f1_score(df_train['subreddit'].values, logregL2.predict(X_train), average = 'micro')\n",
    "f1_test_L2 = f1_score(df_test['subreddit'].values, logregL2.predict(X_test), average = 'micro')\n",
    "\n",
    "#print F1 values out\n",
    "print(f\"Training set with L1 regularization F1-Score is {f1_train_L2}\")\n",
    "print(f\"Test set with L1 regularization F1-Score is {f1_test_L2}\")"
   ]
  },
  {
   "cell_type": "code",
   "execution_count": 9,
   "metadata": {},
   "outputs": [
    {
     "name": "stdout",
     "output_type": "stream",
     "text": [
      "AskLiteraryStudies\n",
      "['literary', 'literature']\n",
      "BATProject\n",
      "['bat', 'brave']\n",
      "DBZDokkanBattle\n",
      "['dokkan', 'global', 'stone']\n",
      "Garmin\n",
      "['fenix', 'forerunner', 'garmin', 'hr', 'vivoactive']\n",
      "Harley\n",
      "['bike', 'harley', 'ride', 'sportster']\n",
      "KissAnime\n",
      "['anime', 'kissanime']\n",
      "NameThatSong\n",
      "['lyric', 'song']\n",
      "Nootropics\n",
      "['nootropic', 'nootropics', 'stack']\n",
      "absolver\n",
      "['absolver', 'combat', 'pvp']\n",
      "antidepressants\n",
      "['antidepressant', 'wellbutrin']\n",
      "asmr\n",
      "['asmr']\n",
      "dpdr\n",
      "['dp', 'dpdr']\n",
      "hockeyplayers\n",
      "['hockey', 'ice', 'skate', 'stick']\n",
      "homeless\n",
      "['homeless', 'shelter']\n",
      "intel\n",
      "['cpu', 'intel']\n",
      "l5r\n",
      "['clan', 'ffg', 'lcg', 'rpg']\n",
      "oculusnsfw\n",
      "['oculus', 'porn', 'vr']\n",
      "poetry_critics\n",
      "[]\n",
      "rawdenim\n",
      "['denim', 'jean']\n",
      "residentevil\n",
      "['capcom', 'dlc', 'leon', 're', 'resident']\n",
      "ringdoorbell\n",
      "['doorbell', 'motion', 'ring']\n",
      "sissyhypno\n",
      "['cock', 'cum', 'gurls', 'hypno', 'hypnos', 'hypnosis', 'sissy']\n",
      "steinsgate\n",
      "['kurisu', 'okabe', 'sg', 'steinsgate', 'vn']\n",
      "talesfromtechsupport\n",
      "[]\n",
      "teenmom\n",
      "['farrah', 'jenelle', 'teen']\n"
     ]
    }
   ],
   "source": [
    "# Inspect weight vector of classifier with L2 regularization for each class\n",
    "for k in range(df_train['subreddit'].nunique()):\n",
    "    # print the classes\n",
    "    print(logregL2.classes_[k])\n",
    "    # retrieve index from coefficients that are greater than a value v\n",
    "    impt_index = [i for i,v in enumerate(logregL2.coef_.tolist()[k]) if v > 2]\n",
    "\n",
    "    # map the index to the actual word\n",
    "    impt_words = [count_vect.get_feature_names_out()[i] for i in impt_index]\n",
    "\n",
    "    # print the words \n",
    "    print(impt_words)"
   ]
  },
  {
   "cell_type": "code",
   "execution_count": 10,
   "metadata": {},
   "outputs": [
    {
     "name": "stdout",
     "output_type": "stream",
     "text": [
      "Training set with Naive Bayes F1-Score is 0.95195\n"
     ]
    }
   ],
   "source": [
    "# Multinomial Naive Bayes\n",
    "\n",
    "# create array of target values\n",
    "y_train = df_train['subreddit'].values\n",
    "\n",
    "# convert X_train to array for manipulation\n",
    "X_train = X_train.toarray()\n",
    "\n",
    "# train Multinomrial NB with alpha=1\n",
    "multiNB = MultinomialNB(alpha=1)\n",
    "multiNB.fit(X_train, y_train)\n",
    "\n",
    "# calculate the accuracy for training set using Naive Bayes Classifier\n",
    "f1_train_nb = f1_score(y_train, multiNB.predict(X_train), average = 'micro')\n",
    "\n",
    "print(f\"Training set with Naive Bayes F1-Score is {f1_train_nb}\")"
   ]
  },
  {
   "cell_type": "code",
   "execution_count": 11,
   "metadata": {},
   "outputs": [
    {
     "name": "stdout",
     "output_type": "stream",
     "text": [
      "Test set with Naive Bayes F1-Score is 0.9228\n"
     ]
    }
   ],
   "source": [
    "# Calculate the predictions for test set using Naive Bayes Classifier\n",
    "\n",
    "# create array of target values\n",
    "y_test = df_test['subreddit'].values\n",
    "\n",
    "# convert Xtrain to array for manipulation\n",
    "X_test = X_test.toarray()\n",
    "\n",
    "# Calculate the accuracy:\n",
    "f1_test_nb = f1_score(y_test, multiNB.predict(X_test), average = 'micro')\n",
    "\n",
    "print(f\"Test set with Naive Bayes F1-Score is {f1_test_nb}\")"
   ]
  },
  {
   "cell_type": "code",
   "execution_count": 12,
   "metadata": {},
   "outputs": [],
   "source": [
    "# N-gram model, determine cutoff for M\n",
    "f1_trainlist = []\n",
    "f1_testlist = []\n",
    "\n",
    "# Iterate through different value of M to calculate M that provides highest F1 Score for development set \n",
    "for M in range(30, 40):\n",
    "\n",
    "    # Perform CountVectorizer on text\n",
    "    count_vect = CountVectorizer(binary=False, ngram_range=(1,2), min_df=M)\n",
    "    X_train = count_vect.fit_transform(df_train['selftext'])\n",
    "    X_dev = count_vect.transform(df_test['selftext'])\n",
    "\n",
    "    # create logistic model with no regularization terms\n",
    "    logreg = LogisticRegression(multi_class='ovr', penalty='none')\n",
    "    logreg.fit(X_train, df_train['subreddit'].values)\n",
    "\n",
    "    # calculate F1 score\n",
    "    f1_train = f1_score(df_train['subreddit'].values, logreg.predict(X_train), average = 'micro')\n",
    "    f1_test = f1_score(df_test['subreddit'].values, logreg.predict(X_dev), average = 'micro')\n",
    "\n",
    "    # append F1 score to lists for plotting\n",
    "    f1_trainlist.append(f1_train)\n",
    "    f1_testlist.append(f1_test)"
   ]
  },
  {
   "cell_type": "code",
   "execution_count": 13,
   "metadata": {},
   "outputs": [
    {
     "data": {
      "image/png": "[encoded data removed]",
      "text/plain": [
       "<Figure size 640x480 with 1 Axes>"
      ]
     },
     "metadata": {},
     "output_type": "display_data"
    }
   ],
   "source": [
    "# plot F1-Score for Dev and Training sets to determine optimal M\n",
    "plt.plot(range(30, 40), f1_trainlist, label=\"Training Set\")\n",
    "plt.plot(range(30, 40), f1_testlist, label=\"Test Set\")\n",
    "plt.xlabel(\"M Threshold\")\n",
    "plt.ylabel(\"F1-Score\")\n",
    "leg = plt.legend(loc='upper right')\n",
    "plt.show()"
   ]
  },
  {
   "cell_type": "code",
   "execution_count": 14,
   "metadata": {},
   "outputs": [
    {
     "name": "stdout",
     "output_type": "stream",
     "text": [
      "6070\n"
     ]
    }
   ],
   "source": [
    "# Choose M as 40 (minimal degradation in performance) \n",
    "M = 40\n",
    "\n",
    "# Perform CountVectorizer on text with new M threshold\n",
    "count_vect = CountVectorizer(binary=False, ngram_range=(1,2), min_df=M)\n",
    "X_train = count_vect.fit_transform(df_train['selftext'])\n",
    "X_test = count_vect.transform(df_test['selftext'])\n",
    "\n",
    "# print number of feature vectors\n",
    "print(len(count_vect.vocabulary_.keys()))"
   ]
  },
  {
   "cell_type": "code",
   "execution_count": 15,
   "metadata": {},
   "outputs": [
    {
     "name": "stdout",
     "output_type": "stream",
     "text": [
      "Training set with no regularization terms F1-Score is 1.0\n",
      "Test set with no regularization terms F1-Score is 0.9078\n"
     ]
    }
   ],
   "source": [
    "# Logistic Regression with no Regularization Terms\n",
    "logreg = LogisticRegression(multi_class='ovr', penalty='none')\n",
    "logreg.fit(X_train, df_train['subreddit'].values)\n",
    "\n",
    "# calculate F1 score\n",
    "f1_train = f1_score(df_train['subreddit'].values, logreg.predict(X_train), average = 'micro')\n",
    "f1_test = f1_score(df_test['subreddit'].values, logreg.predict(X_test), average = 'micro')\n",
    "\n",
    "# print F1 values out\n",
    "print(f\"Training set with no regularization terms F1-Score is {f1_train}\")\n",
    "print(f\"Test set with no regularization terms F1-Score is {f1_test}\")"
   ]
  },
  {
   "cell_type": "code",
   "execution_count": 16,
   "metadata": {},
   "outputs": [
    {
     "name": "stdout",
     "output_type": "stream",
     "text": [
      "Training set with L1 regularization F1-Score is 0.99665\n",
      "Test set with L1 regularization F1-Score is 0.9103999999999999\n"
     ]
    }
   ],
   "source": [
    "# LogisticRegression with L1 regularization\n",
    "logregL1 = LogisticRegression(penalty='l1', solver='liblinear')\n",
    "logregL1.fit(X_train, df_train['subreddit'].values)\n",
    "\n",
    "# calculate F1 score\n",
    "f1_train_L1 = f1_score(df_train['subreddit'].values, logregL1.predict(X_train), average = 'micro')\n",
    "f1_test_L1 = f1_score(df_test['subreddit'].values, logregL1.predict(X_test), average = 'micro')\n",
    "\n",
    "#print F1 values out\n",
    "print(f\"Training set with L1 regularization F1-Score is {f1_train_L1}\")\n",
    "print(f\"Test set with L1 regularization F1-Score is {f1_test_L1}\")"
   ]
  },
  {
   "cell_type": "code",
   "execution_count": 17,
   "metadata": {},
   "outputs": [
    {
     "name": "stdout",
     "output_type": "stream",
     "text": [
      "Training set with L1 regularization F1-Score is 0.99995\n",
      "Test set with L1 regularization F1-Score is 0.915\n"
     ]
    }
   ],
   "source": [
    "# LogisticRegression with L2 regularization\n",
    "logregL2 = LogisticRegression(penalty='l2', solver='liblinear')\n",
    "logregL2.fit(X_train, df_train['subreddit'].values)\n",
    "\n",
    "# calculate F1 score\n",
    "f1_train_L2 = f1_score(df_train['subreddit'].values, logregL2.predict(X_train), average = 'micro')\n",
    "f1_test_L2 = f1_score(df_test['subreddit'].values, logregL2.predict(X_test), average = 'micro')\n",
    "\n",
    "#print F1 values out\n",
    "print(f\"Training set with L1 regularization F1-Score is {f1_train_L2}\")\n",
    "print(f\"Test set with L1 regularization F1-Score is {f1_test_L2}\")"
   ]
  },
  {
   "cell_type": "code",
   "execution_count": 18,
   "metadata": {},
   "outputs": [
    {
     "name": "stdout",
     "output_type": "stream",
     "text": [
      "Training set with Naive Bayes F1-Score is 0.9458\n"
     ]
    }
   ],
   "source": [
    "# Multinomial Naive Bayes\n",
    "\n",
    "# create array of target values\n",
    "y_train = df_train['subreddit'].values\n",
    "\n",
    "# convert X_train to array for manipulation\n",
    "X_train = X_train.toarray()\n",
    "\n",
    "# train Multinomrial NB with alpha=1\n",
    "multiNB = MultinomialNB(alpha=1)\n",
    "multiNB.fit(X_train, y_train)\n",
    "\n",
    "# calculate the accuracy for training set using Naive Bayes Classifier\n",
    "f1_train_nb = f1_score(y_train, multiNB.predict(X_train), average = 'micro')\n",
    "\n",
    "print(f\"Training set with Naive Bayes F1-Score is {f1_train_nb}\")"
   ]
  },
  {
   "cell_type": "code",
   "execution_count": 19,
   "metadata": {},
   "outputs": [
    {
     "name": "stdout",
     "output_type": "stream",
     "text": [
      "Test set with Naive Bayes F1-Score is 0.9122000000000001\n"
     ]
    }
   ],
   "source": [
    "# Calculate the predictions for test set using Naive Bayes Classifier\n",
    "\n",
    "# create array of target values\n",
    "y_test = df_test['subreddit'].values\n",
    "\n",
    "# convert Xtrain to array for manipulation\n",
    "X_test = X_test.toarray()\n",
    "\n",
    "# Calculate the accuracy:\n",
    "f1_test_nb = f1_score(y_test, multiNB.predict(X_test), average = 'micro')\n",
    "\n",
    "print(f\"Test set with Naive Bayes F1-Score is {f1_test_nb}\")"
   ]
  }
 ],
 "metadata": {
  "kernelspec": {
   "display_name": "Python 3",
   "language": "python",
   "name": "python3"
  },
  "language_info": {
   "codemirror_mode": {
    "name": "ipython",
    "version": 3
   },
   "file_extension": ".py",
   "mimetype": "text/x-python",
   "name": "python",
   "nbconvert_exporter": "python",
   "pygments_lexer": "ipython3",
   "version": "3.10.4 (tags/v3.10.4:9d38120, Mar 23 2022, 23:13:41) [MSC v.1929 64 bit (AMD64)]"
  },
  "orig_nbformat": 4,
  "vscode": {
   "interpreter": {
    "hash": "e97064513f0d268e2f073204e543b8077386c7433ee9f7232070081c2302a999"
   }
  }
 },
 "nbformat": 4,
 "nbformat_minor": 2
}
